{
 "cells": [
  {
   "cell_type": "code",
   "execution_count": 1,
   "metadata": {},
   "outputs": [],
   "source": [
    "from json import loads\n",
    "import pandas as pd\n",
    "from datetime import datetime\n",
    "import sys\n",
    "import os"
   ]
  },
  {
   "cell_type": "code",
   "execution_count": 2,
   "metadata": {},
   "outputs": [],
   "source": [
    "\n",
    "script_path = os.path.abspath(\"../\")\n",
    "sys.path.append(script_path)\n",
    "\n",
    "from utils import generic_bar_graph, generic_distribution_plot, generic_plot_boxplots"
   ]
  },
  {
   "cell_type": "code",
   "execution_count": 3,
   "metadata": {},
   "outputs": [],
   "source": [
    "pd.set_option('display.max_columns', None)\n",
    "pd.set_option('display.max_rows', 50)"
   ]
  },
  {
   "cell_type": "code",
   "execution_count": null,
   "metadata": {},
   "outputs": [],
   "source": [
    "%load_ext autoreload\n",
    "%autoreload 2"
   ]
  },
  {
   "cell_type": "markdown",
   "metadata": {},
   "source": [
    "# Carregando e configurando o dataset"
   ]
  },
  {
   "cell_type": "code",
   "execution_count": 4,
   "metadata": {},
   "outputs": [],
   "source": [
    "df = pd.read_csv('../csv_datasets/data_from_all_players_tournaments_seasons_dataset.csv')"
   ]
  },
  {
   "cell_type": "code",
   "execution_count": null,
   "metadata": {},
   "outputs": [],
   "source": [
    "df.head()"
   ]
  },
  {
   "cell_type": "markdown",
   "metadata": {},
   "source": [
    "## Removendo colunas desnecessárias"
   ]
  },
  {
   "cell_type": "code",
   "execution_count": 5,
   "metadata": {},
   "outputs": [],
   "source": [
    "df.drop('Unnamed: 0', axis=1, inplace=True)"
   ]
  },
  {
   "cell_type": "markdown",
   "metadata": {},
   "source": [
    "## Renomeando colunas"
   ]
  },
  {
   "cell_type": "code",
   "execution_count": 6,
   "metadata": {},
   "outputs": [],
   "source": [
    "df.rename(columns={'points': 'heatmap'}, inplace=True)"
   ]
  },
  {
   "cell_type": "markdown",
   "metadata": {},
   "source": [
    "## Extraindo dados dos jogadores para o Dataset"
   ]
  },
  {
   "cell_type": "code",
   "execution_count": 7,
   "metadata": {},
   "outputs": [],
   "source": [
    "df['player'] = df['player'].apply(eval)"
   ]
  },
  {
   "cell_type": "code",
   "execution_count": 8,
   "metadata": {},
   "outputs": [],
   "source": [
    "df_players = pd.json_normalize(df['player'])"
   ]
  },
  {
   "cell_type": "code",
   "execution_count": 9,
   "metadata": {},
   "outputs": [],
   "source": [
    "df = pd.concat([df, df_players], axis=1)"
   ]
  },
  {
   "cell_type": "code",
   "execution_count": null,
   "metadata": {},
   "outputs": [],
   "source": [
    "df.head(1)"
   ]
  },
  {
   "cell_type": "code",
   "execution_count": 10,
   "metadata": {},
   "outputs": [],
   "source": [
    "df = df[\n",
    "    [\n",
    "        'positive',\n",
    "        'negative',\n",
    "        'positions',\n",
    "        'heatmap',\n",
    "        'matches',\n",
    "        'statistics',\n",
    "        'team',\n",
    "        'season',\n",
    "        'tournament',\n",
    "        'name',\n",
    "        'position',\n",
    "        'height',\n",
    "        'preferredFoot',\n",
    "        'proposedMarketValue',\n",
    "        'contractUntilTimestamp',\n",
    "        'team.shortName',\n",
    "        'team.tournament.name',\n",
    "        'team.tournament.category.name',\n",
    "        'team.tournament.category.country.name',\n",
    "        'id',\n",
    "        'retired',\n",
    "        'dateOfBirthTimestamp',\n",
    "        'deceased'\n",
    "    ]\n",
    "].copy()"
   ]
  },
  {
   "cell_type": "code",
   "execution_count": 11,
   "metadata": {},
   "outputs": [],
   "source": [
    "df.rename(columns={'team.shortName': 'current_team',\n",
    "                   'team.tournament.name': 'current_team_tournament', \n",
    "                   'team.tournament.category.name': 'current_team_tournament_category',\n",
    "                   'team.tournament.category.country.name': 'current_team_country',\n",
    "                   'id': 'player_id'}, inplace=True)"
   ]
  },
  {
   "cell_type": "markdown",
   "metadata": {},
   "source": [
    "## Extraindo dados dos times da temporada do jogador"
   ]
  },
  {
   "cell_type": "code",
   "execution_count": 12,
   "metadata": {},
   "outputs": [],
   "source": [
    "df['team'] = df['team'].apply(eval)"
   ]
  },
  {
   "cell_type": "code",
   "execution_count": 13,
   "metadata": {},
   "outputs": [],
   "source": [
    "df_team = pd.json_normalize(df['team'])"
   ]
  },
  {
   "cell_type": "code",
   "execution_count": 14,
   "metadata": {},
   "outputs": [],
   "source": [
    "df_team.rename(columns={'name': 'season_team',\n",
    "                   'shortName': 'season_team_shortname', }, inplace=True)"
   ]
  },
  {
   "cell_type": "code",
   "execution_count": 15,
   "metadata": {},
   "outputs": [],
   "source": [
    "df = pd.concat([df, df_team], axis=1)"
   ]
  },
  {
   "cell_type": "code",
   "execution_count": 16,
   "metadata": {},
   "outputs": [],
   "source": [
    "df = df.iloc[:, :26]"
   ]
  },
  {
   "cell_type": "code",
   "execution_count": null,
   "metadata": {},
   "outputs": [],
   "source": [
    "df.head(1)"
   ]
  },
  {
   "cell_type": "code",
   "execution_count": 17,
   "metadata": {},
   "outputs": [],
   "source": [
    "df.drop(['team', 'slug'], axis=1, inplace=True)"
   ]
  },
  {
   "cell_type": "markdown",
   "metadata": {},
   "source": [
    "## Extraindo dados das estatisticas para o Dataset"
   ]
  },
  {
   "cell_type": "code",
   "execution_count": 18,
   "metadata": {},
   "outputs": [],
   "source": [
    "df['statistics'] = df['statistics'].apply(eval)"
   ]
  },
  {
   "cell_type": "code",
   "execution_count": 19,
   "metadata": {},
   "outputs": [],
   "source": [
    "df_statistics = pd.json_normalize(df['statistics'])"
   ]
  },
  {
   "cell_type": "code",
   "execution_count": 20,
   "metadata": {},
   "outputs": [],
   "source": [
    "df = pd.concat([df, df_statistics], axis=1)"
   ]
  },
  {
   "cell_type": "code",
   "execution_count": null,
   "metadata": {},
   "outputs": [],
   "source": [
    "df.head()"
   ]
  },
  {
   "cell_type": "code",
   "execution_count": 21,
   "metadata": {},
   "outputs": [],
   "source": [
    "df.drop('statistics', axis=1, inplace=True)"
   ]
  },
  {
   "cell_type": "markdown",
   "metadata": {},
   "source": [
    "## Criando algumas colunas para auxiliar na análise"
   ]
  },
  {
   "cell_type": "code",
   "execution_count": 22,
   "metadata": {},
   "outputs": [],
   "source": [
    "def calculate_age(birth_timestamp):\n",
    "    age = None\n",
    "    if not pd.isna(birth_timestamp):\n",
    "\n",
    "        birth_date = datetime.fromtimestamp(birth_timestamp)\n",
    "\n",
    "        current_date = datetime(2025, 3, 20, 21, 4)\n",
    "        \n",
    "        age = current_date.year - birth_date.year - ((current_date.month, current_date.day) < (birth_date.month, birth_date.day))\n",
    "    \n",
    "    return age"
   ]
  },
  {
   "cell_type": "code",
   "execution_count": 23,
   "metadata": {},
   "outputs": [],
   "source": [
    "df['age'] = df['dateOfBirthTimestamp'].apply(calculate_age)"
   ]
  },
  {
   "cell_type": "markdown",
   "metadata": {},
   "source": [
    "# Analise exploratória"
   ]
  },
  {
   "cell_type": "markdown",
   "metadata": {},
   "source": [
    "## Identificando valores nulos - Dados dos jogadores"
   ]
  },
  {
   "cell_type": "code",
   "execution_count": null,
   "metadata": {},
   "outputs": [],
   "source": [
    "df.iloc[:,:22].info(verbose=True, show_counts=True)"
   ]
  },
  {
   "cell_type": "markdown",
   "metadata": {},
   "source": [
    "#### Matches e Heatmap"
   ]
  },
  {
   "cell_type": "markdown",
   "metadata": {},
   "source": [
    "Explicações para valores nulos\n",
    "\n",
    "- heatmap: Jogadores que jogaram menos de um jogo ou estão aposentados\n",
    "- matches: Mesma coisa que o heatmap"
   ]
  },
  {
   "cell_type": "code",
   "execution_count": null,
   "metadata": {},
   "outputs": [],
   "source": [
    "df[df['heatmap'].isnull()].head()"
   ]
  },
  {
   "cell_type": "code",
   "execution_count": null,
   "metadata": {},
   "outputs": [],
   "source": [
    "df[df['heatmap'].isnull()]['minutesPlayed'].value_counts()"
   ]
  },
  {
   "cell_type": "code",
   "execution_count": null,
   "metadata": {},
   "outputs": [],
   "source": [
    "df[(df['heatmap'].isnull()) & (df['minutesPlayed'] == 90)]"
   ]
  },
  {
   "cell_type": "code",
   "execution_count": null,
   "metadata": {},
   "outputs": [],
   "source": [
    "df[df['heatmap'].isnull()]['retired'].value_counts()"
   ]
  },
  {
   "cell_type": "code",
   "execution_count": null,
   "metadata": {},
   "outputs": [],
   "source": [
    "df[(df['heatmap'].isnull()) & (df['retired'].isna())].head()"
   ]
  },
  {
   "cell_type": "code",
   "execution_count": null,
   "metadata": {},
   "outputs": [],
   "source": [
    "df[(df['heatmap'].isnull()) & (~df['matches'].isnull())].head()"
   ]
  },
  {
   "cell_type": "markdown",
   "metadata": {},
   "source": [
    "#### Position"
   ]
  },
  {
   "cell_type": "markdown",
   "metadata": {},
   "source": [
    "São poucos jogadores, que jogaram poucos minutos e geralmente são jovens"
   ]
  },
  {
   "cell_type": "code",
   "execution_count": null,
   "metadata": {},
   "outputs": [],
   "source": [
    "df[df['position'].isnull()]['minutesPlayed']"
   ]
  },
  {
   "cell_type": "code",
   "execution_count": null,
   "metadata": {},
   "outputs": [],
   "source": [
    "df[df['position'].isnull()][['name', 'age', 'player_id']]"
   ]
  },
  {
   "cell_type": "markdown",
   "metadata": {},
   "source": [
    "### Jogadores sem idade"
   ]
  },
  {
   "cell_type": "markdown",
   "metadata": {},
   "source": [
    "Também o padrão se repete, são jogadores que jogaram muito pouco e não há muitas informações sobre eles"
   ]
  },
  {
   "cell_type": "code",
   "execution_count": null,
   "metadata": {},
   "outputs": [],
   "source": [
    "len(df[df['age'].isnull()])"
   ]
  },
  {
   "cell_type": "code",
   "execution_count": null,
   "metadata": {},
   "outputs": [],
   "source": [
    "df[df['age'].isnull()]['minutesPlayed'].value_counts()"
   ]
  },
  {
   "cell_type": "markdown",
   "metadata": {},
   "source": [
    "### Jogadores mortos"
   ]
  },
  {
   "cell_type": "markdown",
   "metadata": {},
   "source": [
    "Existem nove jogadores que faleceram"
   ]
  },
  {
   "cell_type": "code",
   "execution_count": null,
   "metadata": {},
   "outputs": [],
   "source": [
    "df['deceased'].value_counts()"
   ]
  },
  {
   "cell_type": "code",
   "execution_count": null,
   "metadata": {},
   "outputs": [],
   "source": [
    "df[df['deceased'] == True]"
   ]
  },
  {
   "cell_type": "markdown",
   "metadata": {},
   "source": [
    "### height\n",
    "\n",
    "Aparentemente não há um padrão para a altura não aparecer em alguns jogadores. Ela será preenchida na etapa de pré processamento"
   ]
  },
  {
   "cell_type": "code",
   "execution_count": null,
   "metadata": {},
   "outputs": [],
   "source": [
    "df['height'].info(verbose=True, show_counts=True)"
   ]
  },
  {
   "cell_type": "code",
   "execution_count": null,
   "metadata": {},
   "outputs": [],
   "source": [
    "grouped_data = df[df['height'].isnull()].groupby('tournament').count().reset_index().sort_values('name')"
   ]
  },
  {
   "cell_type": "code",
   "execution_count": null,
   "metadata": {},
   "outputs": [],
   "source": [
    "generic_bar_graph(categories=grouped_data['tournament'], values=grouped_data['name'], title='Jogadores sem altura por liga', x_label='Número de jogadores', y_label='Liga', x_rotation=90)"
   ]
  },
  {
   "cell_type": "code",
   "execution_count": null,
   "metadata": {},
   "outputs": [],
   "source": [
    "grouped_data = df[df['height'].isnull()].groupby(['tournament', 'season'])['minutesPlayed'].max().reset_index().sort_values('minutesPlayed')"
   ]
  },
  {
   "cell_type": "code",
   "execution_count": null,
   "metadata": {},
   "outputs": [],
   "source": [
    "generic_bar_graph(categories=grouped_data['tournament'], values=grouped_data['name'], title='Jogadores sem altura por liga', x_label='Número de jogadores', y_label='Liga', x_rotation=90)"
   ]
  },
  {
   "cell_type": "code",
   "execution_count": null,
   "metadata": {},
   "outputs": [],
   "source": [
    "stacked_data = grouped_data.pivot_table(index='season', columns='tournament', values='minutesPlayed')"
   ]
  },
  {
   "cell_type": "code",
   "execution_count": null,
   "metadata": {},
   "outputs": [],
   "source": [
    "stacked_data"
   ]
  },
  {
   "cell_type": "code",
   "execution_count": null,
   "metadata": {},
   "outputs": [],
   "source": [
    "import matplotlib.pyplot as plt\n",
    "\n",
    "stacked_data.plot(kind='bar', stacked=True, figsize=(12, 6), colormap=\"viridis\")\n",
    "\n",
    "# Personalizar o gráfico\n",
    "plt.title('Distribuição dos Minutos Jogados por Temporada e Liga')\n",
    "plt.xlabel('Temporada')\n",
    "plt.ylabel('Minutos Jogados')\n",
    "plt.legend(title='Liga', bbox_to_anchor=(1.05, 1), loc='upper left')\n",
    "plt.tight_layout()\n",
    "plt.show()\n"
   ]
  },
  {
   "cell_type": "markdown",
   "metadata": {},
   "source": [
    "### preferredFoot\n",
    "\n",
    "Parece que ocorreu um problema na coleta destes dados. Apenas para estes jogadores, vou refazer as coletas de dados ou posso inserir a moda nessa caso"
   ]
  },
  {
   "cell_type": "code",
   "execution_count": null,
   "metadata": {},
   "outputs": [],
   "source": [
    "df[df['preferredFoot'].isnull()][['tournament', 'season', 'name', 'player_id']]"
   ]
  },
  {
   "cell_type": "markdown",
   "metadata": {},
   "source": [
    "### retired and deceased\n",
    "\n",
    "Alguns jogadores realmente não tem essa informação. Estes serão considerados jogadores normais"
   ]
  },
  {
   "cell_type": "code",
   "execution_count": null,
   "metadata": {},
   "outputs": [],
   "source": [
    "df[df['deceased'].isnull()][['tournament', 'season', 'name', 'player_id']]"
   ]
  },
  {
   "cell_type": "markdown",
   "metadata": {},
   "source": [
    "### Jogadores que não jogaram nenhum minuto na temporada"
   ]
  },
  {
   "cell_type": "code",
   "execution_count": null,
   "metadata": {},
   "outputs": [],
   "source": [
    "len(df[df['minutesPlayed'] == 0])"
   ]
  },
  {
   "cell_type": "markdown",
   "metadata": {},
   "source": [
    "### Jogadores aposentados"
   ]
  },
  {
   "cell_type": "code",
   "execution_count": null,
   "metadata": {},
   "outputs": [],
   "source": [
    "len(df[df['retired'] == True])"
   ]
  },
  {
   "cell_type": "markdown",
   "metadata": {},
   "source": [
    "## Identificando valores nulos - Estatisticas dos jogadores"
   ]
  },
  {
   "cell_type": "code",
   "execution_count": null,
   "metadata": {},
   "outputs": [],
   "source": [
    "df.iloc[:,22:].info(verbose=True, show_counts=True)"
   ]
  },
  {
   "cell_type": "markdown",
   "metadata": {},
   "source": [
    "### assists\n",
    "\n",
    "Realmente parece que alguns jogadores não tem essa característica computada. Vou preencher esses valores faltantes na etapa de pré-processamento"
   ]
  },
  {
   "cell_type": "code",
   "execution_count": null,
   "metadata": {},
   "outputs": [],
   "source": [
    "df[df['assists'].isnull()]['position'].value_counts()"
   ]
  },
  {
   "cell_type": "code",
   "execution_count": null,
   "metadata": {},
   "outputs": [],
   "source": [
    "df[df['assists'].isnull()].head(5)"
   ]
  },
  {
   "cell_type": "markdown",
   "metadata": {},
   "source": [
    "### goalKicks\n",
    "\n",
    "Não sei se essa variável é tão util. Relacionada ao número de tiros de meta de um jogador. Grande maioria não tem por que não bate tiro de meta"
   ]
  },
  {
   "cell_type": "code",
   "execution_count": null,
   "metadata": {},
   "outputs": [],
   "source": [
    "df[(df['goalKicks'] > 0)][['tournament', 'season', 'name', 'player_id' ,'goalKicks']].head(5)"
   ]
  },
  {
   "cell_type": "code",
   "execution_count": null,
   "metadata": {},
   "outputs": [],
   "source": [
    "df[(df['goalKicks'] > 0) & (df['position'] == 'G')][['tournament', 'season', 'name', 'goalKicks']].head(5)"
   ]
  },
  {
   "cell_type": "code",
   "execution_count": null,
   "metadata": {},
   "outputs": [],
   "source": [
    "df[~df['goalKicks'].isnull()].head(5)"
   ]
  },
  {
   "cell_type": "markdown",
   "metadata": {},
   "source": [
    "### ballRecovery e goalsPrevented\n",
    "\n",
    "Talvez seja uma estatistica que não guardam muito. Nem todo jogador deve ter esse tipo de ação no jogo"
   ]
  },
  {
   "cell_type": "markdown",
   "metadata": {},
   "source": [
    "### expectedAssists e expectedGoals\n",
    "\n",
    "Aparentemente, nem todos os jogadores tem essa estatística calculada. Melhor analisar uma estratética para imputar isso no pré-processamento"
   ]
  },
  {
   "cell_type": "code",
   "execution_count": null,
   "metadata": {},
   "outputs": [],
   "source": [
    "df[df['expectedAssists'].isnull()][['tournament', 'season', 'player_id', 'name']].head()"
   ]
  },
  {
   "cell_type": "code",
   "execution_count": null,
   "metadata": {},
   "outputs": [],
   "source": [
    "df[(df['expectedAssists'].isnull()) & (df['assists'] > 0)][['tournament', 'season', 'player_id', 'name']]"
   ]
  },
  {
   "cell_type": "code",
   "execution_count": null,
   "metadata": {},
   "outputs": [],
   "source": [
    "len(df[df['expectedAssists'].isnull()]['tournament'].unique())"
   ]
  },
  {
   "cell_type": "code",
   "execution_count": null,
   "metadata": {},
   "outputs": [],
   "source": [
    "len(df[df['expectedGoals'].isnull()]['tournament'].unique())"
   ]
  },
  {
   "cell_type": "code",
   "execution_count": null,
   "metadata": {},
   "outputs": [],
   "source": [
    "grouped_data = grouped_data = df[df['expectedAssists'].isnull()].groupby(['tournament'])['minutesPlayed'].max().reset_index().sort_values('minutesPlayed')"
   ]
  },
  {
   "cell_type": "code",
   "execution_count": null,
   "metadata": {},
   "outputs": [],
   "source": [
    "generic_bar_graph(categories=grouped_data['tournament'], values=grouped_data['minutesPlayed'], title='Jogadores sem Xa', x_label='Número máximo de minutos em campo', y_label='Liga', x_rotation=90)"
   ]
  },
  {
   "cell_type": "code",
   "execution_count": null,
   "metadata": {},
   "outputs": [],
   "source": [
    "grouped_data = grouped_data = df[df['expectedAssists'].isnull()].groupby(['tournament'])['assists'].max().reset_index().sort_values('assists')"
   ]
  },
  {
   "cell_type": "code",
   "execution_count": null,
   "metadata": {},
   "outputs": [],
   "source": [
    "generic_bar_graph(categories=grouped_data['tournament'], values=grouped_data['assists'], title='Jogadores sem Xa', x_label='Número máximo de assistencias', y_label='Liga', x_rotation=90)"
   ]
  },
  {
   "cell_type": "code",
   "execution_count": null,
   "metadata": {},
   "outputs": [],
   "source": [
    "df[(df['expectedAssists'].isnull()) & (df['assists'] > 20)][['tournament', 'season', 'player_id', 'name', 'assists']]"
   ]
  },
  {
   "cell_type": "markdown",
   "metadata": {},
   "source": [
    "## Analisando distribuição e outliers de variáveis"
   ]
  },
  {
   "cell_type": "code",
   "execution_count": 25,
   "metadata": {},
   "outputs": [],
   "source": [
    "df_analisys = df[\n",
    "    ((df['deceased'].isnull()) | (df['deceased'] == False))\n",
    "    &\n",
    "    (~df['heatmap'].isnull())\n",
    "    &\n",
    "    (~df['position'].isnull())\n",
    "    &\n",
    "    (~df['age'].isnull())\n",
    "].copy()"
   ]
  },
  {
   "cell_type": "markdown",
   "metadata": {},
   "source": [
    "### Número de jogadores que aparecem mais de uma vez\n",
    "\n",
    "A maioria dos jogadores aparece mais de uma vez no dataset. Alguns deles possuem dados apenas de uma temporada.\n",
    "\n",
    "Para estes que aparecem apenas uma vez, eles podem ficar com menos dados nas agregações comparados aos que aparecem mais de uma vez.\n",
    "\n",
    "Tem outro cenário, que seria o de simular quando jogadores entraram na esteira do algoritmo sem possuir dados anteriores. Seria um teste meio que em \"produção\""
   ]
  },
  {
   "cell_type": "code",
   "execution_count": null,
   "metadata": {},
   "outputs": [],
   "source": [
    "df_two_seasons = df_analisys.groupby('player_id')['name'].size().reset_index()"
   ]
  },
  {
   "cell_type": "code",
   "execution_count": null,
   "metadata": {},
   "outputs": [],
   "source": [
    "len(df_analisys)"
   ]
  },
  {
   "cell_type": "code",
   "execution_count": null,
   "metadata": {},
   "outputs": [],
   "source": [
    "df_two_seasons['name'].value_counts().reset_index()"
   ]
  },
  {
   "cell_type": "code",
   "execution_count": null,
   "metadata": {},
   "outputs": [],
   "source": [
    "len(df_analisys[df_analisys['season'].isin(['23_24', '2024'])])"
   ]
  },
  {
   "cell_type": "code",
   "execution_count": null,
   "metadata": {},
   "outputs": [],
   "source": [
    "len(df_analisys[df_analisys['season'].isin(['22_23', '2023'])])"
   ]
  },
  {
   "cell_type": "markdown",
   "metadata": {},
   "source": [
    "### Analisando quais jogadores trocaram de time na mesma temporada"
   ]
  },
  {
   "cell_type": "code",
   "execution_count": null,
   "metadata": {},
   "outputs": [],
   "source": [
    "df_transfer = df_analisys.groupby(['player_id', 'season'])['season_team'].nunique().reset_index()"
   ]
  },
  {
   "cell_type": "code",
   "execution_count": null,
   "metadata": {},
   "outputs": [],
   "source": [
    "df_transfer[(df_transfer['season_team'] > 1)]"
   ]
  },
  {
   "cell_type": "code",
   "execution_count": null,
   "metadata": {},
   "outputs": [],
   "source": [
    "df_transfer[(df_transfer['season_team'] > 1) & (df_transfer['season'].isin(['23_24', '2024']))]"
   ]
  },
  {
   "cell_type": "code",
   "execution_count": null,
   "metadata": {},
   "outputs": [],
   "source": [
    "df_analisys[df_analisys['player_id'] == 15190]"
   ]
  },
  {
   "cell_type": "markdown",
   "metadata": {},
   "source": [
    "### Filtrando apenas a última temporada"
   ]
  },
  {
   "cell_type": "code",
   "execution_count": 26,
   "metadata": {},
   "outputs": [],
   "source": [
    "df_analisys = df_analisys[df_analisys['season'].isin(['2024', '23_24'])]"
   ]
  },
  {
   "cell_type": "markdown",
   "metadata": {},
   "source": [
    "### Características dos jogadores"
   ]
  },
  {
   "cell_type": "code",
   "execution_count": 27,
   "metadata": {},
   "outputs": [],
   "source": [
    "df_player_characteristics = df_analisys[['positions','heatmap','matches', 'season', 'tournament', 'name', 'position', 'height', \n",
    " 'preferredFoot', 'proposedMarketValue', 'contractUntilTimestamp', \n",
    " 'current_team', 'current_team_tournament', 'current_team_tournament_category', \n",
    " 'current_team_country', 'player_id', 'retired', 'age', \n",
    " 'deceased', 'season_team', 'season_team_shortname']].copy()"
   ]
  },
  {
   "cell_type": "code",
   "execution_count": null,
   "metadata": {},
   "outputs": [],
   "source": [
    "df_player_characteristics.info(verbose=True)"
   ]
  },
  {
   "cell_type": "markdown",
   "metadata": {},
   "source": [
    "Das variáveis acima, o que eu acho que pode ser interessante para o modelo:\n",
    "\n",
    "- heatmap\n",
    "- matches\n",
    "- position\n",
    "- height\n",
    "- preferredFoot\n",
    "- age"
   ]
  },
  {
   "cell_type": "markdown",
   "metadata": {},
   "source": [
    "#### Analisando distribuição das variáveis"
   ]
  },
  {
   "cell_type": "code",
   "execution_count": null,
   "metadata": {},
   "outputs": [],
   "source": [
    "generic_distribution_plot(df_player_characteristics, ['matches', 'height', 'age'], graphs_per_row=3, bins_dict={'matches': 20, 'height': 20, 'age': 5})"
   ]
  },
  {
   "cell_type": "markdown",
   "metadata": {},
   "source": [
    "#### Analisando valores incomuns na variável age\n",
    "\n",
    "Um jogador está com a idade incorreta. Ele será removido"
   ]
  },
  {
   "cell_type": "code",
   "execution_count": null,
   "metadata": {},
   "outputs": [],
   "source": [
    "generic_plot_boxplots(df_player_characteristics, ['age'])"
   ]
  },
  {
   "cell_type": "code",
   "execution_count": null,
   "metadata": {},
   "outputs": [],
   "source": [
    "print(df[df['age'] > 1000]['dateOfBirthTimestamp'])"
   ]
  },
  {
   "cell_type": "code",
   "execution_count": null,
   "metadata": {},
   "outputs": [],
   "source": [
    "df[df['age'] > 1000]"
   ]
  },
  {
   "cell_type": "code",
   "execution_count": null,
   "metadata": {},
   "outputs": [],
   "source": [
    "df_player_characteristics = df_player_characteristics[df_player_characteristics['age'] < 60]"
   ]
  },
  {
   "cell_type": "code",
   "execution_count": null,
   "metadata": {},
   "outputs": [],
   "source": [
    "generic_plot_boxplots(df_player_characteristics, ['age'])"
   ]
  },
  {
   "cell_type": "code",
   "execution_count": null,
   "metadata": {},
   "outputs": [],
   "source": [
    "df_player_characteristics['age'].describe()"
   ]
  },
  {
   "cell_type": "code",
   "execution_count": null,
   "metadata": {},
   "outputs": [],
   "source": [
    "df_player_characteristics[df_player_characteristics['age'] == 15]"
   ]
  },
  {
   "cell_type": "markdown",
   "metadata": {},
   "source": [
    "#### Analisando outliers para a variável matches\n",
    "\n",
    "Esta variável não tem outliers fora do iterquartil range, mas é interessante analisar posteriormente o impacto de poucos jogos nas estatisticas"
   ]
  },
  {
   "cell_type": "code",
   "execution_count": null,
   "metadata": {},
   "outputs": [],
   "source": [
    "generic_plot_boxplots(df_player_characteristics, ['matches'])"
   ]
  },
  {
   "cell_type": "code",
   "execution_count": null,
   "metadata": {},
   "outputs": [],
   "source": [
    "df_player_characteristics['matches'].describe()"
   ]
  },
  {
   "cell_type": "markdown",
   "metadata": {},
   "source": [
    "#### Analisando outliers para a vairável height\n",
    "\n",
    "Os valores, mesmo sendo outliers, são genuinos para essa variável. Fiz uma análise da média de altura por posição, o que pode ser útil posteriormente para pós processamento"
   ]
  },
  {
   "cell_type": "code",
   "execution_count": null,
   "metadata": {},
   "outputs": [],
   "source": [
    "generic_plot_boxplots(df_player_characteristics, ['height'])"
   ]
  },
  {
   "cell_type": "code",
   "execution_count": null,
   "metadata": {},
   "outputs": [],
   "source": [
    "df_player_characteristics['height'].describe()"
   ]
  },
  {
   "cell_type": "code",
   "execution_count": null,
   "metadata": {},
   "outputs": [],
   "source": [
    "df_mean_height_per_position = df_player_characteristics.groupby(['position'])['height'].mean().reset_index()"
   ]
  },
  {
   "cell_type": "code",
   "execution_count": null,
   "metadata": {},
   "outputs": [],
   "source": [
    "df_mean_height_per_position"
   ]
  },
  {
   "cell_type": "code",
   "execution_count": null,
   "metadata": {},
   "outputs": [],
   "source": [
    "generic_bar_graph(categories=df_mean_height_per_position['position'], values=df_mean_height_per_position['height'], title='Média de Altura Por Posição', x_label='Posição', y_label='Média de Altura', x_rotation=90)"
   ]
  },
  {
   "cell_type": "code",
   "execution_count": null,
   "metadata": {},
   "outputs": [],
   "source": [
    "df_mean_height_per_position = df_player_characteristics.groupby(['position'])['height'].median().reset_index()"
   ]
  },
  {
   "cell_type": "code",
   "execution_count": null,
   "metadata": {},
   "outputs": [],
   "source": [
    "df_mean_height_per_position"
   ]
  },
  {
   "cell_type": "code",
   "execution_count": null,
   "metadata": {},
   "outputs": [],
   "source": [
    "generic_bar_graph(categories=df_mean_height_per_position['position'], values=df_mean_height_per_position['height'], title='Mediana de Altura Por Posição', x_label='Posição', y_label='Mediana de Altura', x_rotation=90)"
   ]
  },
  {
   "cell_type": "markdown",
   "metadata": {},
   "source": [
    "#### Analisando número de valores nas variáveis preferredFoot e position\n",
    "\n",
    "O pé preferido do jogador terá algum valor preditivo?\n",
    "\n",
    "As posições aqui não são especificas, apenas genéricas onde o jogador ocupa no campo"
   ]
  },
  {
   "cell_type": "code",
   "execution_count": null,
   "metadata": {},
   "outputs": [],
   "source": [
    "preferred_foot_grouped_data = df_player_characteristics.groupby(['preferredFoot']).size().reset_index()"
   ]
  },
  {
   "cell_type": "code",
   "execution_count": null,
   "metadata": {},
   "outputs": [],
   "source": [
    "preferred_foot_grouped_data"
   ]
  },
  {
   "cell_type": "code",
   "execution_count": null,
   "metadata": {},
   "outputs": [],
   "source": [
    "generic_bar_graph(categories=preferred_foot_grouped_data['preferredFoot'], values=preferred_foot_grouped_data[0], title='Pé preferido do jogador', x_label='Pé', y_label='Contagem', x_rotation=90)"
   ]
  },
  {
   "cell_type": "code",
   "execution_count": null,
   "metadata": {},
   "outputs": [],
   "source": [
    "position_grouped_data = df_player_characteristics.groupby(['position']).size().reset_index().sort_values(0)"
   ]
  },
  {
   "cell_type": "code",
   "execution_count": null,
   "metadata": {},
   "outputs": [],
   "source": [
    "generic_bar_graph(categories=position_grouped_data['position'], values=position_grouped_data[0], title='Número de jogadores por posição', x_label='Posição', y_label='Contagem', x_rotation=90)"
   ]
  },
  {
   "cell_type": "markdown",
   "metadata": {},
   "source": [
    "#### Decodificando o heatmap"
   ]
  },
  {
   "cell_type": "code",
   "execution_count": 28,
   "metadata": {},
   "outputs": [
    {
     "data": {
      "text/html": [
       "<div>\n",
       "<style scoped>\n",
       "    .dataframe tbody tr th:only-of-type {\n",
       "        vertical-align: middle;\n",
       "    }\n",
       "\n",
       "    .dataframe tbody tr th {\n",
       "        vertical-align: top;\n",
       "    }\n",
       "\n",
       "    .dataframe thead th {\n",
       "        text-align: right;\n",
       "    }\n",
       "</style>\n",
       "<table border=\"1\" class=\"dataframe\">\n",
       "  <thead>\n",
       "    <tr style=\"text-align: right;\">\n",
       "      <th></th>\n",
       "      <th>heatmap</th>\n",
       "      <th>player_id</th>\n",
       "      <th>season</th>\n",
       "      <th>tournament</th>\n",
       "      <th>name</th>\n",
       "    </tr>\n",
       "  </thead>\n",
       "  <tbody>\n",
       "    <tr>\n",
       "      <th>0</th>\n",
       "      <td>[{'x': 30, 'y': 10, 'count': 1}, {'x': 30, 'y'...</td>\n",
       "      <td>814221</td>\n",
       "      <td>23_24</td>\n",
       "      <td>2_bundesliga</td>\n",
       "      <td>Manuel Feil</td>\n",
       "    </tr>\n",
       "    <tr>\n",
       "      <th>1</th>\n",
       "      <td>[{'x': 72, 'y': 7, 'count': 1}, {'x': 72, 'y':...</td>\n",
       "      <td>1085304</td>\n",
       "      <td>23_24</td>\n",
       "      <td>2_bundesliga</td>\n",
       "      <td>Marco Pledl</td>\n",
       "    </tr>\n",
       "    <tr>\n",
       "      <th>2</th>\n",
       "      <td>[{'x': 28, 'y': 51, 'count': 2}, {'x': 28, 'y'...</td>\n",
       "      <td>845653</td>\n",
       "      <td>23_24</td>\n",
       "      <td>2_bundesliga</td>\n",
       "      <td>Carlo Sickinger</td>\n",
       "    </tr>\n",
       "    <tr>\n",
       "      <th>3</th>\n",
       "      <td>[{'x': 73, 'y': 32, 'count': 1}, {'x': 73, 'y'...</td>\n",
       "      <td>50968</td>\n",
       "      <td>23_24</td>\n",
       "      <td>2_bundesliga</td>\n",
       "      <td>Terrence Boyd</td>\n",
       "    </tr>\n",
       "    <tr>\n",
       "      <th>4</th>\n",
       "      <td>[{'x': 18, 'y': 28, 'count': 1}, {'x': 18, 'y'...</td>\n",
       "      <td>1000541</td>\n",
       "      <td>23_24</td>\n",
       "      <td>2_bundesliga</td>\n",
       "      <td>Andi Hoti</td>\n",
       "    </tr>\n",
       "    <tr>\n",
       "      <th>...</th>\n",
       "      <td>...</td>\n",
       "      <td>...</td>\n",
       "      <td>...</td>\n",
       "      <td>...</td>\n",
       "      <td>...</td>\n",
       "    </tr>\n",
       "    <tr>\n",
       "      <th>22182</th>\n",
       "      <td>[{'x': 81, 'y': 45, 'count': 1}, {'x': 81, 'y'...</td>\n",
       "      <td>838640</td>\n",
       "      <td>23_24</td>\n",
       "      <td>pro_league</td>\n",
       "      <td>Wilfried Kanga</td>\n",
       "    </tr>\n",
       "    <tr>\n",
       "      <th>22183</th>\n",
       "      <td>[{'x': 68, 'y': 89, 'count': 4}, {'x': 68, 'y'...</td>\n",
       "      <td>902987</td>\n",
       "      <td>23_24</td>\n",
       "      <td>pro_league</td>\n",
       "      <td>Loïc Lapoussin</td>\n",
       "    </tr>\n",
       "    <tr>\n",
       "      <th>22184</th>\n",
       "      <td>[{'x': 21, 'y': 87, 'count': 1}, {'x': 21, 'y'...</td>\n",
       "      <td>149592</td>\n",
       "      <td>23_24</td>\n",
       "      <td>pro_league</td>\n",
       "      <td>Jacob Barrett Laursen</td>\n",
       "    </tr>\n",
       "    <tr>\n",
       "      <th>22185</th>\n",
       "      <td>[{'x': 21, 'y': 16, 'count': 1}, {'x': 21, 'y'...</td>\n",
       "      <td>247471</td>\n",
       "      <td>23_24</td>\n",
       "      <td>pro_league</td>\n",
       "      <td>Casper Nielsen</td>\n",
       "    </tr>\n",
       "    <tr>\n",
       "      <th>22186</th>\n",
       "      <td>[{'x': 46, 'y': 85, 'count': 1}, {'x': 46, 'y'...</td>\n",
       "      <td>992044</td>\n",
       "      <td>23_24</td>\n",
       "      <td>pro_league</td>\n",
       "      <td>Alex Mighten</td>\n",
       "    </tr>\n",
       "  </tbody>\n",
       "</table>\n",
       "<p>11364 rows × 5 columns</p>\n",
       "</div>"
      ],
      "text/plain": [
       "                                                 heatmap  player_id season  \\\n",
       "0      [{'x': 30, 'y': 10, 'count': 1}, {'x': 30, 'y'...     814221  23_24   \n",
       "1      [{'x': 72, 'y': 7, 'count': 1}, {'x': 72, 'y':...    1085304  23_24   \n",
       "2      [{'x': 28, 'y': 51, 'count': 2}, {'x': 28, 'y'...     845653  23_24   \n",
       "3      [{'x': 73, 'y': 32, 'count': 1}, {'x': 73, 'y'...      50968  23_24   \n",
       "4      [{'x': 18, 'y': 28, 'count': 1}, {'x': 18, 'y'...    1000541  23_24   \n",
       "...                                                  ...        ...    ...   \n",
       "22182  [{'x': 81, 'y': 45, 'count': 1}, {'x': 81, 'y'...     838640  23_24   \n",
       "22183  [{'x': 68, 'y': 89, 'count': 4}, {'x': 68, 'y'...     902987  23_24   \n",
       "22184  [{'x': 21, 'y': 87, 'count': 1}, {'x': 21, 'y'...     149592  23_24   \n",
       "22185  [{'x': 21, 'y': 16, 'count': 1}, {'x': 21, 'y'...     247471  23_24   \n",
       "22186  [{'x': 46, 'y': 85, 'count': 1}, {'x': 46, 'y'...     992044  23_24   \n",
       "\n",
       "         tournament                   name  \n",
       "0      2_bundesliga            Manuel Feil  \n",
       "1      2_bundesliga            Marco Pledl  \n",
       "2      2_bundesliga        Carlo Sickinger  \n",
       "3      2_bundesliga          Terrence Boyd  \n",
       "4      2_bundesliga              Andi Hoti  \n",
       "...             ...                    ...  \n",
       "22182    pro_league         Wilfried Kanga  \n",
       "22183    pro_league         Loïc Lapoussin  \n",
       "22184    pro_league  Jacob Barrett Laursen  \n",
       "22185    pro_league         Casper Nielsen  \n",
       "22186    pro_league           Alex Mighten  \n",
       "\n",
       "[11364 rows x 5 columns]"
      ]
     },
     "execution_count": 28,
     "metadata": {},
     "output_type": "execute_result"
    }
   ],
   "source": [
    "df_player_characteristics[['heatmap', 'player_id', 'season', 'tournament', 'name']]"
   ]
  },
  {
   "cell_type": "code",
   "execution_count": null,
   "metadata": {},
   "outputs": [],
   "source": [
    "from json import loads, dumps"
   ]
  },
  {
   "cell_type": "code",
   "execution_count": null,
   "metadata": {},
   "outputs": [],
   "source": [
    "data = df_player_characteristics['heatmap'][0]"
   ]
  },
  {
   "cell_type": "code",
   "execution_count": 29,
   "metadata": {},
   "outputs": [
    {
     "ename": "NameError",
     "evalue": "name 'data' is not defined",
     "output_type": "error",
     "traceback": [
      "\u001b[0;31m---------------------------------------------------------------------------\u001b[0m",
      "\u001b[0;31mNameError\u001b[0m                                 Traceback (most recent call last)",
      "Cell \u001b[0;32mIn[29], line 1\u001b[0m\n\u001b[0;32m----> 1\u001b[0m heatmap_data \u001b[38;5;241m=\u001b[39m pd\u001b[38;5;241m.\u001b[39mDataFrame(\u001b[43mdata\u001b[49m)\n",
      "\u001b[0;31mNameError\u001b[0m: name 'data' is not defined"
     ]
    }
   ],
   "source": [
    "heatmap_data = pd.DataFrame(data)"
   ]
  },
  {
   "cell_type": "code",
   "execution_count": null,
   "metadata": {},
   "outputs": [],
   "source": [
    "heatmap_matrix = heatmap_data.pivot_table(index='x', columns='y', values='count', fill_value=0)"
   ]
  },
  {
   "cell_type": "code",
   "execution_count": null,
   "metadata": {},
   "outputs": [],
   "source": [
    "heatmap_matrix"
   ]
  },
  {
   "cell_type": "code",
   "execution_count": null,
   "metadata": {},
   "outputs": [],
   "source": [
    "import seaborn as sns\n",
    "import matplotlib.pyplot as plt\n",
    "import pandas as pd\n",
    "import numpy as np\n",
    "\n",
    "# Criando dados de exemplo\n",
    "data = pd.DataFrame(np.random.random((5,5)), columns=[\"a\",\"b\",\"c\",\"d\",\"e\"])\n",
    "\n",
    "# Criando o heatmap básico\n",
    "sns.heatmap(heatmap_matrix)\n",
    "\n",
    "# Exibindo o gráfico\n",
    "plt.show()"
   ]
  },
  {
   "cell_type": "code",
   "execution_count": 43,
   "metadata": {},
   "outputs": [],
   "source": [
    "import numpy as np\n",
    "\n",
    "def create_heatmap_matrix(data):\n",
    "    heatmap_matrix = np.zeros((101, 101),  dtype=np.uint8)\n",
    "\n",
    "    for value in data:\n",
    "        heatmap_matrix[value['x'], value['y']] = value['count']\n",
    "\n",
    "    return heatmap_matrix"
   ]
  },
  {
   "cell_type": "code",
   "execution_count": null,
   "metadata": {},
   "outputs": [],
   "source": [
    "import cv2\n",
    "\n",
    "def detect_key_points_heatmap(data):\n",
    "    sift = cv2.SIFT_create()\n",
    "\n",
    "    keypoints, descritores = sift.detectAndCompute(data, None)\n",
    "\n",
    "    imagem_com_keypoints = cv2.drawKeypoints(data, keypoints, data)\n",
    "\n",
    "    return imagem_com_keypoints"
   ]
  },
  {
   "cell_type": "code",
   "execution_count": 32,
   "metadata": {},
   "outputs": [],
   "source": [
    "df_player_characteristics['heatmap'] = df_player_characteristics['heatmap'].apply(eval)"
   ]
  },
  {
   "cell_type": "code",
   "execution_count": 44,
   "metadata": {},
   "outputs": [],
   "source": [
    "df_player_characteristics['heatmap_matrix'] = df_player_characteristics['heatmap'].apply(create_heatmap_matrix)"
   ]
  },
  {
   "cell_type": "code",
   "execution_count": 57,
   "metadata": {},
   "outputs": [],
   "source": [
    "df_player_characteristics['heatmap_matrix_key_points'] = df_player_characteristics['heatmap_matrix'].apply(detect_key_points_heatmap)"
   ]
  },
  {
   "cell_type": "code",
   "execution_count": 59,
   "metadata": {},
   "outputs": [],
   "source": [
    "df_player_characteristics['heatmap_matrix_key_points'] = df_player_characteristics['heatmap_matrix_key_points'].apply(lambda x: cv2.cvtColor(x, cv2.COLOR_BGR2GRAY))"
   ]
  },
  {
   "cell_type": "code",
   "execution_count": null,
   "metadata": {},
   "outputs": [
    {
     "data": {
      "image/png": "[encoded data removed]",
      "text/plain": [
       "<Figure size 1000x800 with 2 Axes>"
      ]
     },
     "metadata": {},
     "output_type": "display_data"
    }
   ],
   "source": [
    "import seaborn as sns\n",
    "import matplotlib.pyplot as plt\n",
    "import pandas as pd\n",
    "import numpy as np\n",
    "\n",
    "matriz = df_player_characteristics['heatmap_matrix_key_points'][0]\n",
    "lado = int(np.sqrt(matriz.size))\n",
    "matriz_2d = matriz[:lado**2].reshape((lado, lado))\n",
    "\n",
    "\n",
    "\n",
    "plt.figure(figsize=(10, 8))\n",
    "plt.imshow(matriz_2d, cmap='viridis', interpolation='nearest')\n",
    "plt.colorbar(label='Valores')\n",
    "plt.title('Heatmap da Matriz')\n",
    "plt.xlabel('Colunas')\n",
    "plt.ylabel('Linhas')\n",
    "plt.show()"
   ]
  },
  {
   "cell_type": "code",
   "execution_count": 66,
   "metadata": {},
   "outputs": [
    {
     "data": {
      "image/png": "[encoded data removed]",
      "text/plain": [
       "<Figure size 1000x800 with 2 Axes>"
      ]
     },
     "metadata": {},
     "output_type": "display_data"
    }
   ],
   "source": [
    "import seaborn as sns\n",
    "import matplotlib.pyplot as plt\n",
    "import pandas as pd\n",
    "import numpy as np\n",
    "\n",
    "matriz = df_player_characteristics['heatmap_matrix'][0]\n",
    "lado = int(np.sqrt(matriz.size))\n",
    "matriz_2d = matriz[:lado**2].reshape((lado, lado))\n",
    "\n",
    "\n",
    "\n",
    "plt.figure(figsize=(10, 8))\n",
    "plt.imshow(matriz_2d, cmap='viridis', interpolation='nearest')\n",
    "plt.colorbar(label='Valores')\n",
    "plt.title('Heatmap da Matriz')\n",
    "plt.xlabel('Colunas')\n",
    "plt.ylabel('Linhas')\n",
    "plt.show()"
   ]
  },
  {
   "cell_type": "code",
   "execution_count": 36,
   "metadata": {},
   "outputs": [],
   "source": [
    "import cv2\n",
    "import numpy as np\n",
    "\n",
    "# Carregar a imagem\n",
    "imagem = cv2.imread('/home/bruno/TCC2/Notebooks/icon-256x256.png')\n",
    "\n",
    "# Converter para escala de cinza\n",
    "cinza = cv2.cvtColor(imagem, cv2.COLOR_BGR2GRAY)\n",
    "\n",
    "# Criar o detector SIFT\n",
    "sift = cv2.SIFT_create()\n",
    "\n",
    "# Detectar pontos-chave e descritores\n",
    "keypoints, descritores = sift.detectAndCompute(cinza, None)\n",
    "\n",
    "# Desenhar os pontos-chave na imagem\n",
    "imagem_com_keypoints = cv2.drawKeypoints(cinza, keypoints, imagem)\n"
   ]
  },
  {
   "cell_type": "code",
   "execution_count": 38,
   "metadata": {},
   "outputs": [
    {
     "data": {
      "text/plain": [
       "array([[224, 223, 223, ..., 227, 227, 228],\n",
       "       [222, 222, 222, ..., 226, 226, 226],\n",
       "       [223, 222, 223, ..., 227, 226, 228],\n",
       "       ...,\n",
       "       [ 19,   8,   1, ..., 192, 210, 217],\n",
       "       [ 12,   1,   1, ..., 165, 183, 218],\n",
       "       [  4,   2,   8, ..., 185, 179, 185]], shape=(256, 256), dtype=uint8)"
      ]
     },
     "execution_count": 38,
     "metadata": {},
     "output_type": "execute_result"
    }
   ],
   "source": [
    "cinza"
   ]
  },
  {
   "cell_type": "code",
   "execution_count": 37,
   "metadata": {},
   "outputs": [
    {
     "data": {
      "text/plain": [
       "array([[[224, 224, 224],\n",
       "        [223, 223, 223],\n",
       "        [223, 223, 223],\n",
       "        ...,\n",
       "        [227, 227, 227],\n",
       "        [227, 227, 227],\n",
       "        [228, 228, 228]],\n",
       "\n",
       "       [[222, 222, 222],\n",
       "        [222, 222, 222],\n",
       "        [222, 222, 222],\n",
       "        ...,\n",
       "        [226, 226, 226],\n",
       "        [226, 226, 226],\n",
       "        [226, 226, 226]],\n",
       "\n",
       "       [[223, 223, 223],\n",
       "        [222, 222, 222],\n",
       "        [223, 223, 223],\n",
       "        ...,\n",
       "        [227, 227, 227],\n",
       "        [226, 226, 226],\n",
       "        [228, 228, 228]],\n",
       "\n",
       "       ...,\n",
       "\n",
       "       [[ 19,  19,  19],\n",
       "        [  8,   8,   8],\n",
       "        [  1,   1,   1],\n",
       "        ...,\n",
       "        [192, 192, 192],\n",
       "        [210, 210, 210],\n",
       "        [217, 217, 217]],\n",
       "\n",
       "       [[ 12,  12,  12],\n",
       "        [  1,   1,   1],\n",
       "        [  1,   1,   1],\n",
       "        ...,\n",
       "        [165, 165, 165],\n",
       "        [183, 183, 183],\n",
       "        [218, 218, 218]],\n",
       "\n",
       "       [[  4,   4,   4],\n",
       "        [  2,   2,   2],\n",
       "        [  8,   8,   8],\n",
       "        ...,\n",
       "        [185, 185, 185],\n",
       "        [179, 179, 179],\n",
       "        [185, 185, 185]]], shape=(256, 256, 3), dtype=uint8)"
      ]
     },
     "execution_count": 37,
     "metadata": {},
     "output_type": "execute_result"
    }
   ],
   "source": [
    "imagem"
   ]
  },
  {
   "cell_type": "code",
   "execution_count": 2,
   "metadata": {},
   "outputs": [
    {
     "data": {
      "text/plain": [
       "array([[[224, 224, 224],\n",
       "        [223, 223, 223],\n",
       "        [223, 223, 223],\n",
       "        ...,\n",
       "        [227, 227, 227],\n",
       "        [227, 227, 227],\n",
       "        [228, 228, 228]],\n",
       "\n",
       "       [[222, 222, 222],\n",
       "        [222, 222, 222],\n",
       "        [222, 222, 222],\n",
       "        ...,\n",
       "        [226, 226, 226],\n",
       "        [226, 226, 226],\n",
       "        [226, 226, 226]],\n",
       "\n",
       "       [[223, 223, 223],\n",
       "        [222, 222, 222],\n",
       "        [223, 223, 223],\n",
       "        ...,\n",
       "        [227, 227, 227],\n",
       "        [226, 226, 226],\n",
       "        [228, 228, 228]],\n",
       "\n",
       "       ...,\n",
       "\n",
       "       [[ 19,  19,  19],\n",
       "        [  8,   8,   8],\n",
       "        [  1,   1,   1],\n",
       "        ...,\n",
       "        [192, 192, 192],\n",
       "        [210, 210, 210],\n",
       "        [217, 217, 217]],\n",
       "\n",
       "       [[ 12,  12,  12],\n",
       "        [  1,   1,   1],\n",
       "        [  1,   1,   1],\n",
       "        ...,\n",
       "        [165, 165, 165],\n",
       "        [183, 183, 183],\n",
       "        [218, 218, 218]],\n",
       "\n",
       "       [[  4,   4,   4],\n",
       "        [  2,   2,   2],\n",
       "        [  8,   8,   8],\n",
       "        ...,\n",
       "        [185, 185, 185],\n",
       "        [179, 179, 179],\n",
       "        [185, 185, 185]]], shape=(256, 256, 3), dtype=uint8)"
      ]
     },
     "execution_count": 2,
     "metadata": {},
     "output_type": "execute_result"
    }
   ],
   "source": [
    "imagem_com_keypoints"
   ]
  },
  {
   "cell_type": "code",
   "execution_count": 3,
   "metadata": {},
   "outputs": [
    {
     "data": {
      "text/plain": [
       "array([[224, 223, 223, ..., 227, 227, 228],\n",
       "       [222, 222, 222, ..., 226, 226, 226],\n",
       "       [223, 222, 223, ..., 227, 226, 228],\n",
       "       ...,\n",
       "       [ 19,   8,   1, ..., 192, 210, 217],\n",
       "       [ 12,   1,   1, ..., 165, 183, 218],\n",
       "       [  4,   2,   8, ..., 185, 179, 185]], shape=(256, 256), dtype=uint8)"
      ]
     },
     "execution_count": 3,
     "metadata": {},
     "output_type": "execute_result"
    }
   ],
   "source": [
    "cinza"
   ]
  },
  {
   "cell_type": "markdown",
   "metadata": {},
   "source": [
    "#### Analisando a variável positions\n",
    "\n",
    "Poucos jogadores jogam em várias posições. Acredito que se for maior que três, da para dizer que ele joga em várias posições. Só tem que identificar qual é o setor do campo\n",
    "\n",
    "Em duas, da para identificar em qual setor do campo o cara joga. Por exemplo, se ele joga no lado direito tanto na defesa e no ataque, da para dizer que ele é do lado direito. Analisar as possibilidades para esse caso\n",
    "\n",
    "Em uma, preencher a variável position com essa\n",
    "\n",
    "Para quem não tem, preencher como DC o de defesa, MC o de meio campo e ST o de atacante\n",
    "\n",
    "Todos os goleiros recebem a posição GK"
   ]
  },
  {
   "cell_type": "code",
   "execution_count": null,
   "metadata": {},
   "outputs": [],
   "source": [
    "posicoes_distintas = set()"
   ]
  },
  {
   "cell_type": "code",
   "execution_count": null,
   "metadata": {},
   "outputs": [],
   "source": [
    "df_player_characteristics['positions'] = df_player_characteristics['positions'].apply(eval)"
   ]
  },
  {
   "cell_type": "code",
   "execution_count": null,
   "metadata": {},
   "outputs": [],
   "source": [
    "for x in df_player_characteristics['positions']:\n",
    "    posicoes_distintas.update(x)"
   ]
  },
  {
   "cell_type": "code",
   "execution_count": null,
   "metadata": {},
   "outputs": [],
   "source": [
    "posicoes_distintas"
   ]
  },
  {
   "cell_type": "code",
   "execution_count": null,
   "metadata": {},
   "outputs": [],
   "source": [
    "df_player_characteristics['posicao_vazia'] = df_player_characteristics['positions'].apply(lambda x: len(x))"
   ]
  },
  {
   "cell_type": "code",
   "execution_count": null,
   "metadata": {},
   "outputs": [],
   "source": [
    "df_player_characteristics.groupby('posicao_vazia').size()"
   ]
  },
  {
   "cell_type": "code",
   "execution_count": null,
   "metadata": {},
   "outputs": [],
   "source": [
    "df_player_characteristics[df_player_characteristics['posicao_vazia'] == 2][:50]"
   ]
  },
  {
   "cell_type": "markdown",
   "metadata": {},
   "source": [
    "### Estatísticas dos jogadores\n",
    "\n",
    "Analises:\n",
    "\n",
    "- Entender se jogadores outliers na idade tem algo de interessante nas suas estatísticas que pode ser aproveitado\n",
    "- Entender como as estatisticas ficam em jogadores que estão abaixo da mediana e acima da mediana na variável matches"
   ]
  },
  {
   "cell_type": "markdown",
   "metadata": {},
   "source": [
    "# Pré-processamento"
   ]
  },
  {
   "cell_type": "markdown",
   "metadata": {},
   "source": [
    "O que posso fazer até aqui?\n",
    "\n",
    "- Remover jogadores aposentados, falecidos e com poucos stats (olhar as análises de heatmap, position, age, matches e jogadores falecidos)\n",
    "- Transformar o heatmap em algo útil\n",
    "- Classificar qual tipo de jogador com base nas posições que ele ocupa\n",
    "- Adicionar a altura em jogadores que não tem\n",
    "- Inserir a moda para jogadores sem o pé preferencial\n",
    "- Talvez agrupar a variável de altura em bins mais arredondados - ex: um grupo de 170 a 180\n",
    "- Remover jogadores com mais de 60 anos\n",
    "- Pensar em algo que possa transformar a variável matches em algum indice de regularidade\n",
    "- Com a variável positions, posso criar uma variável que indica se o jogador joga em mais de uma posição"
   ]
  }
 ],
 "metadata": {
  "kernelspec": {
   "display_name": "Python 3",
   "language": "python",
   "name": "python3"
  },
  "language_info": {
   "codemirror_mode": {
    "name": "ipython",
    "version": 3
   },
   "file_extension": ".py",
   "mimetype": "text/x-python",
   "name": "python",
   "nbconvert_exporter": "python",
   "pygments_lexer": "ipython3",
   "version": "3.12.3"
  }
 },
 "nbformat": 4,
 "nbformat_minor": 2
}
